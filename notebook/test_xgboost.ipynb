{
 "cells": [
  {
   "cell_type": "markdown",
   "metadata": {},
   "source": [
    "# TODO\n",
    "- interpolate missing values"
   ]
  },
  {
   "cell_type": "code",
   "execution_count": 1,
   "metadata": {},
   "outputs": [
    {
     "name": "stderr",
     "output_type": "stream",
     "text": [
      "/home/greg/anaconda2/lib/python2.7/site-packages/sklearn/cross_validation.py:41: DeprecationWarning: This module was deprecated in version 0.18 in favor of the model_selection module into which all the refactored classes and functions are moved. Also note that the interface of the new CV iterators are different from that of this module. This module will be removed in 0.20.\n",
      "  \"This module will be removed in 0.20.\", DeprecationWarning)\n",
      "/home/greg/anaconda2/lib/python2.7/site-packages/sklearn/grid_search.py:42: DeprecationWarning: This module was deprecated in version 0.18 in favor of the model_selection module into which all the refactored classes and functions are moved. This module will be removed in 0.20.\n",
      "  DeprecationWarning)\n"
     ]
    }
   ],
   "source": [
    "%matplotlib inline\n",
    "import pandas as pd\n",
    "import numpy as np\n",
    "import matplotlib.pyplot as plt\n",
    "import seaborn as sb\n",
    "\n",
    "from sklearn.model_selection import TimeSeriesSplit\n",
    "from sklearn.metrics import mean_squared_error\n",
    "from sklearn.grid_search import GridSearchCV\n",
    "import xgboost as xgb\n",
    "import sys\n",
    "sys.path.append('../')\n",
    "import lib.tools as tools\n",
    "\n",
    "pd.options.display.max_columns = 50\n",
    "raw_path = '../data/raw/'\n",
    "train_path = '../data/train/'"
   ]
  },
  {
   "cell_type": "code",
   "execution_count": 2,
   "metadata": {
    "collapsed": true
   },
   "outputs": [],
   "source": [
    "results = [] #dict()\n",
    "preds = [] #dict()\n",
    "# for i in range(1,37):\n",
    "#     results[i] = []\n",
    "#     preds[i] = []"
   ]
  },
  {
   "cell_type": "code",
   "execution_count": 3,
   "metadata": {
    "collapsed": true
   },
   "outputs": [],
   "source": [
    "models = dict()\n",
    "for i in range(1,37):\n",
    "    models[i] =  xgb.XGBRegressor(max_depth=3, learning_rate=0.1, nthread=3, )\n",
    "model = xgb.XGBRegressor(max_depth=4, learning_rate=0.1, nthread=3, )"
   ]
  },
  {
   "cell_type": "code",
   "execution_count": null,
   "metadata": {
    "collapsed": true
   },
   "outputs": [],
   "source": [
    "def ts_split(index_series, n_splits=4):\n",
    "    len_split = len(index_series) // n_splits\n",
    "    return [len_split*split_number for split_number in range(n_splits)] "
   ]
  },
  {
   "cell_type": "code",
   "execution_count": 19,
   "metadata": {
    "scrolled": true
   },
   "outputs": [
    {
     "name": "stdout",
     "output_type": "stream",
     "text": [
      "train_1.csv\n",
      "RMSE: 2.03002785194\n",
      "RMSE: 1.59985348817\n",
      "RMSE: 0.991479803388\n",
      "RMSE: 1.02297428891\n",
      "RMSE: 0.862767501992\n",
      "train_2.csv\n",
      "11905\n",
      "RMSE: 2.96374130844\n",
      "RMSE: 1.62969577443\n",
      "RMSE: 0.873594444819\n",
      "RMSE: 1.08402156045\n",
      "RMSE: 0.969112343752\n",
      "train_3.csv\n",
      "17645\n",
      "RMSE: 2.96374130844\n",
      "RMSE: 1.62969577443\n",
      "RMSE: 0.873594444819\n",
      "RMSE: 1.08402156045\n",
      "RMSE: 0.969112343752\n",
      "train_4.csv\n",
      "23385\n",
      "RMSE: 2.96374130844\n",
      "RMSE: 1.62969577443\n",
      "RMSE: 0.873594444819\n",
      "RMSE: 1.08402156045\n",
      "RMSE: 0.969112343752\n",
      "train_5.csv\n",
      "29125\n",
      "RMSE: 2.96374130844\n",
      "RMSE: 1.62969577443\n",
      "RMSE: 0.873594444819\n",
      "RMSE: 1.08402156045\n",
      "RMSE: 0.969112343752\n",
      "train_6.csv\n",
      "34865\n",
      "RMSE: 2.96374130844\n",
      "RMSE: 1.62969577443\n",
      "RMSE: 0.873594444819\n",
      "RMSE: 1.08402156045\n",
      "RMSE: 0.969112343752\n",
      "train_7.csv\n",
      "40605\n",
      "RMSE: 2.96374130844\n",
      "RMSE: 1.62969577443\n",
      "RMSE: 0.873594444819\n",
      "RMSE: 1.08402156045\n",
      "RMSE: 0.969112343752\n",
      "train_8.csv\n",
      "46345\n",
      "RMSE: 2.96374130844\n",
      "RMSE: 1.62969577443\n",
      "RMSE: 0.873594444819\n",
      "RMSE: 1.08402156045\n",
      "RMSE: 0.969112343752\n",
      "train_9.csv\n",
      "52085\n",
      "RMSE: 2.96374130844\n",
      "RMSE: 1.62969577443\n",
      "RMSE: 0.873594444819\n",
      "RMSE: 1.08402156045\n",
      "RMSE: 0.969112343752\n",
      "train_10.csv\n",
      "57825\n",
      "RMSE: 2.96374130844\n",
      "RMSE: 1.62969577443\n",
      "RMSE: 0.873594444819\n",
      "RMSE: 1.08402156045\n",
      "RMSE: 0.969112343752\n",
      "train_11.csv\n",
      "63565\n",
      "RMSE: 2.96374130844\n",
      "RMSE: 1.62969577443\n",
      "RMSE: 0.873594444819\n",
      "RMSE: 1.08402156045\n",
      "RMSE: 0.969112343752\n",
      "train_12.csv\n",
      "69305\n",
      "RMSE: 2.96374130844\n",
      "RMSE: 1.62969577443\n",
      "RMSE: 0.873594444819\n",
      "RMSE: 1.08402156045\n",
      "RMSE: 0.969112343752\n",
      "train_13.csv\n",
      "75045\n",
      "RMSE: 2.96374130844\n",
      "RMSE: 1.62969577443\n",
      "RMSE: 0.873594444819\n",
      "RMSE: 1.08402156045\n",
      "RMSE: 0.969112343752\n",
      "train_14.csv\n",
      "80785\n",
      "RMSE: 2.96374130844\n",
      "RMSE: 1.62969577443\n",
      "RMSE: 0.873594444819\n",
      "RMSE: 1.08402156045\n",
      "RMSE: 0.969112343752\n",
      "train_15.csv\n",
      "86525\n",
      "RMSE: 2.96374130844\n",
      "RMSE: 1.62969577443\n",
      "RMSE: 0.873594444819\n",
      "RMSE: 1.08402156045\n",
      "RMSE: 0.969112343752\n",
      "train_16.csv\n",
      "92265\n",
      "RMSE: 2.96374130844\n",
      "RMSE: 1.62969577443\n",
      "RMSE: 0.873594444819\n",
      "RMSE: 1.08402156045\n",
      "RMSE: 0.969112343752\n",
      "train_17.csv\n",
      "98005\n",
      "RMSE: 2.96374130844\n",
      "RMSE: 1.62969577443\n",
      "RMSE: 0.873594444819\n",
      "RMSE: 1.08402156045\n",
      "RMSE: 0.969112343752\n",
      "train_18.csv\n",
      "103745\n",
      "RMSE: 2.96374130844\n",
      "RMSE: 1.62969577443\n",
      "RMSE: 0.873594444819\n",
      "RMSE: 1.08402156045\n",
      "RMSE: 0.969112343752\n",
      "train_19.csv\n",
      "109485\n",
      "RMSE: 2.96374130844\n",
      "RMSE: 1.62969577443\n",
      "RMSE: 0.873594444819\n",
      "RMSE: 1.08402156045\n",
      "RMSE: 0.969112343752\n",
      "train_20.csv\n",
      "115225\n",
      "RMSE: 2.96374130844\n",
      "RMSE: 1.62969577443\n",
      "RMSE: 0.873594444819\n",
      "RMSE: 1.08402156045\n",
      "RMSE: 0.969112343752\n",
      "train_21.csv\n",
      "120965\n",
      "RMSE: 2.96374130844\n",
      "RMSE: 1.62969577443\n",
      "RMSE: 0.873594444819\n",
      "RMSE: 1.08402156045\n",
      "RMSE: 0.969112343752\n",
      "train_22.csv\n",
      "127132\n",
      "RMSE: 2.03002785194\n",
      "RMSE: 1.59985348817\n",
      "RMSE: 0.991479803388\n",
      "RMSE: 1.02297428891\n",
      "RMSE: 0.862767501992\n",
      "train_23.csv\n",
      "133299\n",
      "RMSE: 2.03002785194\n",
      "RMSE: 1.59985348817\n",
      "RMSE: 0.991479803388\n",
      "RMSE: 1.02297428891\n",
      "RMSE: 0.862767501992\n",
      "train_24.csv\n",
      "139466\n",
      "RMSE: 2.03002785194\n",
      "RMSE: 1.59985348817\n",
      "RMSE: 0.991479803388\n",
      "RMSE: 1.02297428891\n",
      "RMSE: 0.862767501992\n",
      "train_25.csv\n",
      "145633\n",
      "RMSE: 2.03002785194\n",
      "RMSE: 1.59985348817\n",
      "RMSE: 0.991479803388\n",
      "RMSE: 1.02297428891\n",
      "RMSE: 0.862767501992\n",
      "train_26.csv\n",
      "151800\n",
      "RMSE: 2.03002785194\n",
      "RMSE: 1.59985348817\n",
      "RMSE: 0.991479803388\n",
      "RMSE: 1.02297428891\n",
      "RMSE: 0.862767501992\n",
      "train_27.csv\n",
      "157967\n",
      "RMSE: 2.03002785194\n",
      "RMSE: 1.59985348817\n",
      "RMSE: 0.991479803388\n",
      "RMSE: 1.02297428891\n",
      "RMSE: 0.862767501992\n",
      "train_28.csv\n",
      "164134\n",
      "RMSE: 2.03002785194\n",
      "RMSE: 1.59985348817\n",
      "RMSE: 0.991479803388\n",
      "RMSE: 1.02297428891\n",
      "RMSE: 0.862767501992\n",
      "train_29.csv\n",
      "170301\n",
      "RMSE: 2.03002785194\n",
      "RMSE: 1.59985348817\n",
      "RMSE: 0.991479803388\n",
      "RMSE: 1.02297428891\n",
      "RMSE: 0.862767501992\n",
      "train_30.csv\n",
      "176468\n",
      "RMSE: 2.03002785194\n",
      "RMSE: 1.59985348817\n",
      "RMSE: 0.991479803388\n",
      "RMSE: 1.02297428891\n",
      "RMSE: 0.862767501992\n",
      "train_31.csv\n",
      "178603\n",
      "RMSE: 1.15758616615\n",
      "RMSE: 0.941395326615\n",
      "RMSE: 2.09837502257\n",
      "RMSE: 0.712884878957\n",
      "RMSE: 0.854604046244\n",
      "train_32.csv\n",
      "180738\n",
      "RMSE: 1.15758616615\n",
      "RMSE: 0.941395326615\n",
      "RMSE: 2.09837502257\n",
      "RMSE: 0.712884878957\n",
      "RMSE: 0.854604046244\n",
      "train_33.csv\n",
      "182873\n",
      "RMSE: 1.15758616615\n",
      "RMSE: 0.941395326615\n",
      "RMSE: 2.09837502257\n",
      "RMSE: 0.712884878957\n",
      "RMSE: 0.854604046244\n",
      "train_34.csv\n",
      "185008\n",
      "RMSE: 1.15758616615\n",
      "RMSE: 0.941395326615\n",
      "RMSE: 2.09837502257\n",
      "RMSE: 0.712884878957\n",
      "RMSE: 0.854604046244\n",
      "train_35.csv\n",
      "187143\n",
      "RMSE: 1.15758616615\n",
      "RMSE: 0.941395326615\n",
      "RMSE: 2.09837502257\n",
      "RMSE: 0.712884878957\n",
      "RMSE: 0.854604046244\n",
      "train_36.csv\n",
      "189278\n",
      "RMSE: 1.15758616615\n",
      "RMSE: 0.941395326615\n",
      "RMSE: 2.09837502257\n",
      "RMSE: 0.712884878957\n",
      "RMSE: 0.854604046244\n"
     ]
    }
   ],
   "source": [
    "x_total = None\n",
    "y_total = None\n",
    "# date_total = None\n",
    "# Epoch\n",
    "for filenumber in range(1,36+1):\n",
    "    filename = 'train_' + str(filenumber) + '.csv'\n",
    "    print(filename)\n",
    "    data = pd.read_csv(train_path + filename, header=0, delimiter=';', parse_dates=['date'])\n",
    "    if x_total is not None:\n",
    "        data.index = data.index + x_total.index[-1]\n",
    "        print(data.index[-1])\n",
    "    y = pd.DataFrame(data.tH2_obs)\n",
    "    x = data.drop(['tH2_obs', 'date'], axis=1)\n",
    "\n",
    "    x_total = pd.concat([x_total, x], axis=0, ignore_index=True)\n",
    "    y_total = pd.concat([y_total, y], axis=0, ignore_index=True)\n",
    "    \n",
    "    # Batch\n",
    "#     tssplit = TimeSeriesSplit(n_splits=5)\n",
    "    for split_index in ts_split(data.index, n:\n",
    "#         print(\"TRAIN:\", train_index, \"TEST:\", test_index)\n",
    "        x_train, x_test = x_total.iloc[train_index,:], x_total.iloc[test_index,:]\n",
    "        y_train, y_test = y_total.iloc[train_index,:], y_total.iloc[test_index,:]\n",
    "        model.fit(x_train, y_train)\n",
    "        pred = model.predict(x_test)\n",
    "        result = np.sqrt(mean_squared_error(y_test, pred))\n",
    "\n",
    "        preds.append(pred)\n",
    "        results.append(result)\n",
    "        print('RMSE:', result)\n",
    "    "
   ]
  },
  {
   "cell_type": "code",
   "execution_count": 15,
   "metadata": {},
   "outputs": [
    {
     "ename": "NameError",
     "evalue": "name 'listtrain_index' is not defined",
     "output_type": "error",
     "traceback": [
      "\u001b[0;31m---------------------------------------------------------------------------\u001b[0m",
      "\u001b[0;31mNameError\u001b[0m                                 Traceback (most recent call last)",
      "\u001b[0;32m<ipython-input-15-953f5b1c5272>\u001b[0m in \u001b[0;36m<module>\u001b[0;34m()\u001b[0m\n\u001b[0;32m----> 1\u001b[0;31m \u001b[0mlisttrain_index\u001b[0m\u001b[0;34m[\u001b[0m\u001b[0;34m:\u001b[0m\u001b[0;36m2\u001b[0m\u001b[0;34m]\u001b[0m\u001b[0;34m.\u001b[0m\u001b[0mtolist\u001b[0m\u001b[0;34m\u001b[0m\u001b[0m\n\u001b[0m",
      "\u001b[0;31mNameError\u001b[0m: name 'listtrain_index' is not defined"
     ]
    }
   ],
   "source": [
    "listtrain_index[:2]"
   ]
  },
  {
   "cell_type": "code",
   "execution_count": null,
   "metadata": {
    "scrolled": true
   },
   "outputs": [],
   "source": [
    "plt.figure(dpi=100)\n",
    "xgb.plot_importance(model, )\n",
    "plt.show()"
   ]
  },
  {
   "cell_type": "code",
   "execution_count": null,
   "metadata": {
    "collapsed": true
   },
   "outputs": [],
   "source": [
    "test_data = pd.read_csv('../data/test/test.csv', header=0, parse_dates=['date'], delimiter=';', index_col='date', )\n",
    "test_ = tools.processing(test_data)"
   ]
  },
  {
   "cell_type": "code",
   "execution_count": null,
   "metadata": {},
   "outputs": [],
   "source": [
    "model.predict(test_)"
   ]
  },
  {
   "cell_type": "code",
   "execution_count": null,
   "metadata": {
    "collapsed": true
   },
   "outputs": [],
   "source": [
    "# # Epoch\n",
    "# # x_total = None\n",
    "# # y_total = None\n",
    "# # date_total = None\n",
    "# for filenumber in range(1,36+1):\n",
    "#     filename = 'train_' + str(filenumber) + '.csv'\n",
    "#     print(filename)\n",
    "#     # Batch\n",
    "#     data = pd.read_csv(train_path + filename, header=0, delimiter=';', parse_dates=['date'])\n",
    "#     y = pd.DataFrame(data.tH2_obs)\n",
    "#     x = data.drop(['tH2_obs', 'date'], axis=1)\n",
    "\n",
    "# #     x_total = pd.concat([x_total, x], axis=0, ignore_index=True)\n",
    "# #     y_total = pd.concat([y_total, y], axis=0, ignore_index=True)\n",
    "    \n",
    "#     tssplit = TimeSeriesSplit(n_splits=4)\n",
    "#     for train_index, test_index in tssplit.split(x):\n",
    "# #         print(\"TRAIN:\", train_index, \"TEST:\", test_index)\n",
    "#         x_train, x_test = x.iloc[train_index,:], x.iloc[test_index,:]\n",
    "#         y_train, y_test = y.iloc[train_index,:], y.iloc[test_index,:]\n",
    "        \n",
    "#         models[filenumber].fit(x_train, y_train)\n",
    "#         pred = models[filenumber].predict(x_test)\n",
    "#         result = np.sqrt(mean_squared_error(y_test, pred))\n",
    "\n",
    "#         preds[i].append(pred)\n",
    "#         results[i].append(result)\n",
    "#         print('RMSE:', result)\n",
    "    "
   ]
  },
  {
   "cell_type": "code",
   "execution_count": 57,
   "metadata": {},
   "outputs": [
    {
     "data": {
      "text/plain": [
       "98007"
      ]
     },
     "execution_count": 57,
     "metadata": {},
     "output_type": "execute_result"
    }
   ],
   "source": [
    "len(y_total.index)"
   ]
  },
  {
   "cell_type": "code",
   "execution_count": null,
   "metadata": {
    "collapsed": true
   },
   "outputs": [],
   "source": []
  }
 ],
 "metadata": {
  "kernelspec": {
   "display_name": "Python 2",
   "language": "python",
   "name": "python2"
  },
  "language_info": {
   "codemirror_mode": {
    "name": "ipython",
    "version": 2
   },
   "file_extension": ".py",
   "mimetype": "text/x-python",
   "name": "python",
   "nbconvert_exporter": "python",
   "pygments_lexer": "ipython2",
   "version": "2.7.13"
  },
  "varInspector": {
   "cols": {
    "lenName": 16,
    "lenType": 16,
    "lenVar": 40
   },
   "kernels_config": {
    "python": {
     "delete_cmd_postfix": "",
     "delete_cmd_prefix": "del ",
     "library": "var_list.py",
     "varRefreshCmd": "print(var_dic_list())"
    },
    "r": {
     "delete_cmd_postfix": ") ",
     "delete_cmd_prefix": "rm(",
     "library": "var_list.r",
     "varRefreshCmd": "cat(var_dic_list()) "
    }
   },
   "types_to_exclude": [
    "module",
    "function",
    "builtin_function_or_method",
    "instance",
    "_Feature"
   ],
   "window_display": false
  }
 },
 "nbformat": 4,
 "nbformat_minor": 2
}
