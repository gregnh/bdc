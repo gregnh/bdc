{
 "cells": [
  {
   "cell_type": "code",
   "execution_count": 1,
   "metadata": {
    "collapsed": true
   },
   "outputs": [],
   "source": [
    "import numpy as np\n",
    "import pandas as pd\n",
    "import matplotlib.pyplot as plt\n",
    "\n",
    "import sys\n",
    "sys.path.append('../')\n",
    "\n",
    "pd.options.display.max_columns = 35\n",
    "raw_path = '../data/raw/'"
   ]
  },
  {
   "cell_type": "code",
   "execution_count": 38,
   "metadata": {},
   "outputs": [
    {
     "data": {
      "text/html": [
       "<div>\n",
       "<style scoped>\n",
       "    .dataframe tbody tr th:only-of-type {\n",
       "        vertical-align: middle;\n",
       "    }\n",
       "\n",
       "    .dataframe tbody tr th {\n",
       "        vertical-align: top;\n",
       "    }\n",
       "\n",
       "    .dataframe thead th {\n",
       "        text-align: right;\n",
       "    }\n",
       "</style>\n",
       "<table border=\"1\" class=\"dataframe\">\n",
       "  <thead>\n",
       "    <tr style=\"text-align: right;\">\n",
       "      <th></th>\n",
       "      <th>insee</th>\n",
       "      <th>tH2_obs</th>\n",
       "      <th>capeinsSOL0</th>\n",
       "      <th>ciwcH20</th>\n",
       "      <th>clwcH20</th>\n",
       "      <th>ddH10_rose4</th>\n",
       "      <th>ffH10</th>\n",
       "      <th>flir1SOL0</th>\n",
       "      <th>fllat1SOL0</th>\n",
       "      <th>flsen1SOL0</th>\n",
       "      <th>flvis1SOL0</th>\n",
       "      <th>hcoulimSOL0</th>\n",
       "      <th>huH2</th>\n",
       "      <th>iwcSOL0</th>\n",
       "      <th>nbSOL0_HMoy</th>\n",
       "      <th>nH20</th>\n",
       "      <th>ntSOL0_HMoy</th>\n",
       "      <th>pMER0</th>\n",
       "      <th>rr1SOL0</th>\n",
       "      <th>rrH20</th>\n",
       "      <th>tH2</th>\n",
       "      <th>tH2_VGrad_2.100</th>\n",
       "      <th>tH2_XGrad</th>\n",
       "      <th>tH2_YGrad</th>\n",
       "      <th>tpwHPA850</th>\n",
       "      <th>ux1H10</th>\n",
       "      <th>vapcSOL0</th>\n",
       "      <th>vx1H10</th>\n",
       "      <th>ech</th>\n",
       "      <th>mois</th>\n",
       "    </tr>\n",
       "    <tr>\n",
       "      <th>date</th>\n",
       "      <th></th>\n",
       "      <th></th>\n",
       "      <th></th>\n",
       "      <th></th>\n",
       "      <th></th>\n",
       "      <th></th>\n",
       "      <th></th>\n",
       "      <th></th>\n",
       "      <th></th>\n",
       "      <th></th>\n",
       "      <th></th>\n",
       "      <th></th>\n",
       "      <th></th>\n",
       "      <th></th>\n",
       "      <th></th>\n",
       "      <th></th>\n",
       "      <th></th>\n",
       "      <th></th>\n",
       "      <th></th>\n",
       "      <th></th>\n",
       "      <th></th>\n",
       "      <th></th>\n",
       "      <th></th>\n",
       "      <th></th>\n",
       "      <th></th>\n",
       "      <th></th>\n",
       "      <th></th>\n",
       "      <th></th>\n",
       "      <th></th>\n",
       "      <th></th>\n",
       "    </tr>\n",
       "  </thead>\n",
       "  <tbody>\n",
       "    <tr>\n",
       "      <th>2014-01-01</th>\n",
       "      <td>6088001</td>\n",
       "      <td>5.5</td>\n",
       "      <td>0.198757</td>\n",
       "      <td>0.0</td>\n",
       "      <td>0.000000</td>\n",
       "      <td>4.0</td>\n",
       "      <td>1.970260</td>\n",
       "      <td>-386960.595711</td>\n",
       "      <td>-94260.682523</td>\n",
       "      <td>-40545.510054</td>\n",
       "      <td>3.600000e-12</td>\n",
       "      <td>66.600368</td>\n",
       "      <td>79.211738</td>\n",
       "      <td>0.0</td>\n",
       "      <td>0.000000</td>\n",
       "      <td>0.00000</td>\n",
       "      <td>4.173220</td>\n",
       "      <td>1019.543734</td>\n",
       "      <td>0.000000</td>\n",
       "      <td>0.000000</td>\n",
       "      <td>9.034338</td>\n",
       "      <td>-0.084999</td>\n",
       "      <td>0.007725</td>\n",
       "      <td>-0.013024</td>\n",
       "      <td>3.852825</td>\n",
       "      <td>1.330320</td>\n",
       "      <td>10.664653</td>\n",
       "      <td>-2.853134</td>\n",
       "      <td>1</td>\n",
       "      <td>janvier</td>\n",
       "    </tr>\n",
       "    <tr>\n",
       "      <th>2014-01-01</th>\n",
       "      <td>31069001</td>\n",
       "      <td>4.8</td>\n",
       "      <td>8.590036</td>\n",
       "      <td>0.0</td>\n",
       "      <td>0.000000</td>\n",
       "      <td>3.0</td>\n",
       "      <td>2.755962</td>\n",
       "      <td>-200181.123871</td>\n",
       "      <td>2282.951687</td>\n",
       "      <td>14399.918192</td>\n",
       "      <td>3.600000e-12</td>\n",
       "      <td>57.954614</td>\n",
       "      <td>83.862960</td>\n",
       "      <td>0.0</td>\n",
       "      <td>0.012709</td>\n",
       "      <td>0.00000</td>\n",
       "      <td>5.736559</td>\n",
       "      <td>1018.290035</td>\n",
       "      <td>0.000000</td>\n",
       "      <td>0.000000</td>\n",
       "      <td>3.853128</td>\n",
       "      <td>1.396138</td>\n",
       "      <td>0.005036</td>\n",
       "      <td>0.000810</td>\n",
       "      <td>8.476699</td>\n",
       "      <td>-2.040020</td>\n",
       "      <td>15.462043</td>\n",
       "      <td>3.019614</td>\n",
       "      <td>1</td>\n",
       "      <td>janvier</td>\n",
       "    </tr>\n",
       "    <tr>\n",
       "      <th>2014-01-01</th>\n",
       "      <td>33281001</td>\n",
       "      <td>8.9</td>\n",
       "      <td>69.203856</td>\n",
       "      <td>0.0</td>\n",
       "      <td>0.000001</td>\n",
       "      <td>3.0</td>\n",
       "      <td>3.411283</td>\n",
       "      <td>-62310.340297</td>\n",
       "      <td>9483.691316</td>\n",
       "      <td>64790.365136</td>\n",
       "      <td>3.600000e-12</td>\n",
       "      <td>202.985582</td>\n",
       "      <td>95.711708</td>\n",
       "      <td>0.0</td>\n",
       "      <td>4.792424</td>\n",
       "      <td>0.15494</td>\n",
       "      <td>7.844538</td>\n",
       "      <td>1016.139756</td>\n",
       "      <td>0.081315</td>\n",
       "      <td>0.005008</td>\n",
       "      <td>8.585184</td>\n",
       "      <td>0.387329</td>\n",
       "      <td>0.001372</td>\n",
       "      <td>0.000010</td>\n",
       "      <td>7.643070</td>\n",
       "      <td>3.029610</td>\n",
       "      <td>17.343600</td>\n",
       "      <td>4.889849</td>\n",
       "      <td>1</td>\n",
       "      <td>janvier</td>\n",
       "    </tr>\n",
       "    <tr>\n",
       "      <th>2014-01-01</th>\n",
       "      <td>35281001</td>\n",
       "      <td>6.8</td>\n",
       "      <td>65.270316</td>\n",
       "      <td>0.0</td>\n",
       "      <td>0.000000</td>\n",
       "      <td>3.0</td>\n",
       "      <td>4.655633</td>\n",
       "      <td>-61612.120075</td>\n",
       "      <td>-48356.475831</td>\n",
       "      <td>127450.659115</td>\n",
       "      <td>3.600000e-12</td>\n",
       "      <td>343.974193</td>\n",
       "      <td>90.178385</td>\n",
       "      <td>0.0</td>\n",
       "      <td>7.074669</td>\n",
       "      <td>0.00000</td>\n",
       "      <td>7.377704</td>\n",
       "      <td>1009.321502</td>\n",
       "      <td>0.029946</td>\n",
       "      <td>0.008139</td>\n",
       "      <td>7.304130</td>\n",
       "      <td>-0.089267</td>\n",
       "      <td>0.000401</td>\n",
       "      <td>-0.000067</td>\n",
       "      <td>7.089030</td>\n",
       "      <td>-1.027446</td>\n",
       "      <td>13.981847</td>\n",
       "      <td>8.079973</td>\n",
       "      <td>1</td>\n",
       "      <td>janvier</td>\n",
       "    </tr>\n",
       "    <tr>\n",
       "      <th>2014-01-01</th>\n",
       "      <td>59343001</td>\n",
       "      <td>5.4</td>\n",
       "      <td>5.932505</td>\n",
       "      <td>0.0</td>\n",
       "      <td>0.000000</td>\n",
       "      <td>3.0</td>\n",
       "      <td>5.855930</td>\n",
       "      <td>-39553.109955</td>\n",
       "      <td>-1022.914242</td>\n",
       "      <td>117800.171480</td>\n",
       "      <td>3.600000e-12</td>\n",
       "      <td>656.972741</td>\n",
       "      <td>92.680476</td>\n",
       "      <td>0.0</td>\n",
       "      <td>7.995791</td>\n",
       "      <td>0.00000</td>\n",
       "      <td>7.995791</td>\n",
       "      <td>1008.724301</td>\n",
       "      <td>0.000000</td>\n",
       "      <td>0.000000</td>\n",
       "      <td>5.829715</td>\n",
       "      <td>-0.489606</td>\n",
       "      <td>0.000204</td>\n",
       "      <td>-0.000191</td>\n",
       "      <td>4.546075</td>\n",
       "      <td>2.802554</td>\n",
       "      <td>9.941609</td>\n",
       "      <td>7.955489</td>\n",
       "      <td>1</td>\n",
       "      <td>janvier</td>\n",
       "    </tr>\n",
       "  </tbody>\n",
       "</table>\n",
       "</div>"
      ],
      "text/plain": [
       "               insee  tH2_obs  capeinsSOL0  ciwcH20   clwcH20 ddH10_rose4  \\\n",
       "date                                                                        \n",
       "2014-01-01   6088001      5.5     0.198757      0.0  0.000000         4.0   \n",
       "2014-01-01  31069001      4.8     8.590036      0.0  0.000000         3.0   \n",
       "2014-01-01  33281001      8.9    69.203856      0.0  0.000001         3.0   \n",
       "2014-01-01  35281001      6.8    65.270316      0.0  0.000000         3.0   \n",
       "2014-01-01  59343001      5.4     5.932505      0.0  0.000000         3.0   \n",
       "\n",
       "               ffH10      flir1SOL0    fllat1SOL0     flsen1SOL0  \\\n",
       "date                                                               \n",
       "2014-01-01  1.970260 -386960.595711 -94260.682523  -40545.510054   \n",
       "2014-01-01  2.755962 -200181.123871   2282.951687   14399.918192   \n",
       "2014-01-01  3.411283  -62310.340297   9483.691316   64790.365136   \n",
       "2014-01-01  4.655633  -61612.120075 -48356.475831  127450.659115   \n",
       "2014-01-01  5.855930  -39553.109955  -1022.914242  117800.171480   \n",
       "\n",
       "              flvis1SOL0  hcoulimSOL0       huH2  iwcSOL0  nbSOL0_HMoy  \\\n",
       "date                                                                     \n",
       "2014-01-01  3.600000e-12    66.600368  79.211738      0.0     0.000000   \n",
       "2014-01-01  3.600000e-12    57.954614  83.862960      0.0     0.012709   \n",
       "2014-01-01  3.600000e-12   202.985582  95.711708      0.0     4.792424   \n",
       "2014-01-01  3.600000e-12   343.974193  90.178385      0.0     7.074669   \n",
       "2014-01-01  3.600000e-12   656.972741  92.680476      0.0     7.995791   \n",
       "\n",
       "               nH20  ntSOL0_HMoy        pMER0   rr1SOL0     rrH20       tH2  \\\n",
       "date                                                                          \n",
       "2014-01-01  0.00000     4.173220  1019.543734  0.000000  0.000000  9.034338   \n",
       "2014-01-01  0.00000     5.736559  1018.290035  0.000000  0.000000  3.853128   \n",
       "2014-01-01  0.15494     7.844538  1016.139756  0.081315  0.005008  8.585184   \n",
       "2014-01-01  0.00000     7.377704  1009.321502  0.029946  0.008139  7.304130   \n",
       "2014-01-01  0.00000     7.995791  1008.724301  0.000000  0.000000  5.829715   \n",
       "\n",
       "            tH2_VGrad_2.100  tH2_XGrad  tH2_YGrad  tpwHPA850    ux1H10  \\\n",
       "date                                                                     \n",
       "2014-01-01        -0.084999   0.007725  -0.013024   3.852825  1.330320   \n",
       "2014-01-01         1.396138   0.005036   0.000810   8.476699 -2.040020   \n",
       "2014-01-01         0.387329   0.001372   0.000010   7.643070  3.029610   \n",
       "2014-01-01        -0.089267   0.000401  -0.000067   7.089030 -1.027446   \n",
       "2014-01-01        -0.489606   0.000204  -0.000191   4.546075  2.802554   \n",
       "\n",
       "             vapcSOL0    vx1H10  ech     mois  \n",
       "date                                           \n",
       "2014-01-01  10.664653 -2.853134    1  janvier  \n",
       "2014-01-01  15.462043  3.019614    1  janvier  \n",
       "2014-01-01  17.343600  4.889849    1  janvier  \n",
       "2014-01-01  13.981847  8.079973    1  janvier  \n",
       "2014-01-01   9.941609  7.955489    1  janvier  "
      ]
     },
     "execution_count": 38,
     "metadata": {},
     "output_type": "execute_result"
    }
   ],
   "source": [
    "train = pd.read_csv(raw_path + \"train_1.csv\", header=0, delimiter=\";\",decimal=',',\n",
    "                    parse_dates=['date'], index_col='date')\n",
    "train.head()"
   ]
  },
  {
   "cell_type": "code",
   "execution_count": 39,
   "metadata": {},
   "outputs": [
    {
     "name": "stdout",
     "output_type": "stream",
     "text": [
      "Index([u'insee', u'tH2_obs', u'fllat1SOL0', u'flsen1SOL0', u'flvis1SOL0',\n",
      "       u'nbSOL0_HMoy', u'ntSOL0_HMoy', u'pMER0', u'tH2', u'tH2_VGrad_2.100',\n",
      "       u'tH2_YGrad', u'tpwHPA850', u'ux1H10', u'vapcSOL0', u'vx1H10', u'ech',\n",
      "       u'mois'],\n",
      "      dtype='object')\n"
     ]
    }
   ],
   "source": [
    "train.drop(axis=1, columns=['capeinsSOL0', 'ciwcH20', 'clwcH20', 'ddH10_rose4', 'rr1SOL0', 'rrH20', 'ffH10', \n",
    "                            'flir1SOL0', 'hcoulimSOL0','huH2', 'nH20', 'iwcSOL0', 'tH2_XGrad'], \n",
    "           inplace=True)\n",
    "\n",
    "print(train.columns)"
   ]
  },
  {
   "cell_type": "markdown",
   "metadata": {},
   "source": [
    "## Check where the missing vals are"
   ]
  },
  {
   "cell_type": "code",
   "execution_count": 40,
   "metadata": {},
   "outputs": [
    {
     "data": {
      "text/html": [
       "<div>\n",
       "<style scoped>\n",
       "    .dataframe tbody tr th:only-of-type {\n",
       "        vertical-align: middle;\n",
       "    }\n",
       "\n",
       "    .dataframe tbody tr th {\n",
       "        vertical-align: top;\n",
       "    }\n",
       "\n",
       "    .dataframe thead th {\n",
       "        text-align: right;\n",
       "    }\n",
       "</style>\n",
       "<table border=\"1\" class=\"dataframe\">\n",
       "  <thead>\n",
       "    <tr style=\"text-align: right;\">\n",
       "      <th></th>\n",
       "      <th>insee</th>\n",
       "      <th>tH2_obs</th>\n",
       "      <th>fllat1SOL0</th>\n",
       "      <th>flsen1SOL0</th>\n",
       "      <th>flvis1SOL0</th>\n",
       "      <th>nbSOL0_HMoy</th>\n",
       "      <th>ntSOL0_HMoy</th>\n",
       "      <th>pMER0</th>\n",
       "      <th>tH2</th>\n",
       "      <th>tH2_VGrad_2.100</th>\n",
       "      <th>tH2_YGrad</th>\n",
       "      <th>tpwHPA850</th>\n",
       "      <th>ux1H10</th>\n",
       "      <th>vapcSOL0</th>\n",
       "      <th>vx1H10</th>\n",
       "      <th>ech</th>\n",
       "      <th>mois</th>\n",
       "    </tr>\n",
       "  </thead>\n",
       "  <tbody>\n",
       "    <tr>\n",
       "      <th>0</th>\n",
       "      <td>0</td>\n",
       "      <td>0</td>\n",
       "      <td>0</td>\n",
       "      <td>7</td>\n",
       "      <td>7</td>\n",
       "      <td>7</td>\n",
       "      <td>7</td>\n",
       "      <td>140</td>\n",
       "      <td>126</td>\n",
       "      <td>126</td>\n",
       "      <td>126</td>\n",
       "      <td>7</td>\n",
       "      <td>126</td>\n",
       "      <td>7</td>\n",
       "      <td>119</td>\n",
       "      <td>0</td>\n",
       "      <td>0</td>\n",
       "    </tr>\n",
       "  </tbody>\n",
       "</table>\n",
       "</div>"
      ],
      "text/plain": [
       "   insee  tH2_obs  fllat1SOL0  flsen1SOL0  flvis1SOL0  nbSOL0_HMoy  \\\n",
       "0      0        0           0           7           7            7   \n",
       "\n",
       "   ntSOL0_HMoy  pMER0  tH2  tH2_VGrad_2.100  tH2_YGrad  tpwHPA850  ux1H10  \\\n",
       "0            7    140  126              126        126          7     126   \n",
       "\n",
       "   vapcSOL0  vx1H10  ech  mois  \n",
       "0         7     119    0     0  "
      ]
     },
     "execution_count": 40,
     "metadata": {},
     "output_type": "execute_result"
    }
   ],
   "source": [
    "# Total missing val per var\n",
    "pd.DataFrame(train.isnull().sum()).T"
   ]
  },
  {
   "cell_type": "code",
   "execution_count": 18,
   "metadata": {},
   "outputs": [
    {
     "name": "stdout",
     "output_type": "stream",
     "text": [
      "[2653 2654 2655 2656 2657 2658 2659 2660 2661 2662 2663 2664 2665 2666 2667\n",
      " 2668 2669 2670 2671 2672 2673 2674 2675 2676 2677 2678 2679 2680 2681 2682\n",
      " 2683 2684 2685 2686 2687 2688 2689 2690 2691 2692 2693 2694 2695 2696 2697\n",
      " 2698 2699 2700 2701 2702 2703 2704 2705 2706 2707 2708 2709 2710 2711 2712\n",
      " 2713 2714 2715 2716 2717 2718 2719 2720 2721 2722 2723 2724 2725 2726 2727\n",
      " 2728 2729 2730 2731 2732 2733 2734 2735 2736 2737 2738 2739 2740 2741 2742\n",
      " 2743 2744 2745 2746 2747 2748 2749 2750 2751 2752 2753 2754 2755 2756 2757\n",
      " 2758 2759 2760 2761 2762 2763 2764 2765 2766 2767 2768 2769 2770 2771 2968\n",
      " 2969 2970 2971 2972 2973 2974 2975 2976 2977 2978 2979 2980 2981 4627 4628\n",
      " 4629 4630 4631 4632 4633]\n"
     ]
    }
   ],
   "source": [
    "col = np.where(train.isnull().sum() == 140)[0]\n",
    "print(np.where(np.asanyarray(pd.isnull(train.iloc[:,col])\n",
    "                            )\n",
    "              )[0]\n",
    "     )"
   ]
  },
  {
   "cell_type": "code",
   "execution_count": 32,
   "metadata": {},
   "outputs": [
    {
     "data": {
      "text/html": [
       "<div>\n",
       "<style scoped>\n",
       "    .dataframe tbody tr th:only-of-type {\n",
       "        vertical-align: middle;\n",
       "    }\n",
       "\n",
       "    .dataframe tbody tr th {\n",
       "        vertical-align: top;\n",
       "    }\n",
       "\n",
       "    .dataframe thead th {\n",
       "        text-align: right;\n",
       "    }\n",
       "</style>\n",
       "<table border=\"1\" class=\"dataframe\">\n",
       "  <thead>\n",
       "    <tr style=\"text-align: right;\">\n",
       "      <th></th>\n",
       "      <th>insee</th>\n",
       "      <th>tH2_obs</th>\n",
       "      <th>fllat1SOL0</th>\n",
       "      <th>flsen1SOL0</th>\n",
       "      <th>flvis1SOL0</th>\n",
       "      <th>nbSOL0_HMoy</th>\n",
       "      <th>nH20</th>\n",
       "      <th>ntSOL0_HMoy</th>\n",
       "      <th>pMER0</th>\n",
       "      <th>tH2</th>\n",
       "      <th>tH2_VGrad_2.100</th>\n",
       "      <th>tH2_YGrad</th>\n",
       "      <th>tpwHPA850</th>\n",
       "      <th>ux1H10</th>\n",
       "      <th>vapcSOL0</th>\n",
       "      <th>vx1H10</th>\n",
       "      <th>ech</th>\n",
       "      <th>mois</th>\n",
       "    </tr>\n",
       "  </thead>\n",
       "  <tbody>\n",
       "    <tr>\n",
       "      <th>2015-01-13</th>\n",
       "      <td>6088001</td>\n",
       "      <td>6.4</td>\n",
       "      <td>-84855.4</td>\n",
       "      <td>-40341.1</td>\n",
       "      <td>3.6e-12</td>\n",
       "      <td>0</td>\n",
       "      <td>0</td>\n",
       "      <td>0</td>\n",
       "      <td>1029.81</td>\n",
       "      <td>10.2807</td>\n",
       "      <td>-0.572706</td>\n",
       "      <td>-0.0115487</td>\n",
       "      <td>5.5274</td>\n",
       "      <td>1.02739</td>\n",
       "      <td>5.14861</td>\n",
       "      <td>-3.90169</td>\n",
       "      <td>1</td>\n",
       "      <td>janvier</td>\n",
       "    </tr>\n",
       "  </tbody>\n",
       "</table>\n",
       "</div>"
      ],
      "text/plain": [
       "              insee tH2_obs fllat1SOL0 flsen1SOL0 flvis1SOL0 nbSOL0_HMoy nH20  \\\n",
       "2015-01-13  6088001     6.4   -84855.4   -40341.1    3.6e-12           0    0   \n",
       "\n",
       "           ntSOL0_HMoy    pMER0      tH2 tH2_VGrad_2.100  tH2_YGrad tpwHPA850  \\\n",
       "2015-01-13           0  1029.81  10.2807       -0.572706 -0.0115487    5.5274   \n",
       "\n",
       "             ux1H10 vapcSOL0   vx1H10 ech     mois  \n",
       "2015-01-13  1.02739  5.14861 -3.90169   1  janvier  "
      ]
     },
     "execution_count": 32,
     "metadata": {},
     "output_type": "execute_result"
    }
   ],
   "source": [
    "pd.DataFrame(train.iloc[2653-7*2, :]).T"
   ]
  },
  {
   "cell_type": "markdown",
   "metadata": {},
   "source": [
    "## Lets see if one can interpolate the missing values"
   ]
  },
  {
   "cell_type": "code",
   "execution_count": 44,
   "metadata": {},
   "outputs": [
    {
     "name": "stdout",
     "output_type": "stream",
     "text": [
      "2015-01-04 - tH2 val : 1018.97176217 for station 6088001\n",
      "2015-01-05 - tH2 val : 1028.48804196 for station 6088001\n",
      "2015-01-06 - tH2 val : 1024.79514314 for station 6088001\n",
      "2015-01-07 - tH2 val : 1026.18584194 for station 6088001\n",
      "2015-01-08 - tH2 val : 1031.17309924 for station 6088001\n",
      "2015-01-09 - tH2 val : 1031.29699875 for station 6088001\n",
      "2015-01-10 - tH2 val : 1026.14405286 for station 6088001\n",
      "2015-01-11 - tH2 val : 1018.12560959 for station 6088001\n",
      "2015-01-12 - tH2 val : 1027.1623074 for station 6088001\n",
      "2015-01-13 - tH2 val : 1029.80733405 for station 6088001\n",
      "2015-01-14 - tH2 val : 1023.34216765 for station 6088001\n",
      "interpolate : 1012.72057513\n"
     ]
    }
   ],
   "source": [
    "for i in sorted(range(1,12), reverse=True):\n",
    "    print(train.index[2653-7*i].date(), \n",
    "          '- tH2 val : {} for station {}'.format(train.pMER0[2653-7*i], train.insee[2653-7*i]))\n",
    "print('interpolate : {}'.format(train.pMER0.interpolate()[2653]))"
   ]
  },
  {
   "cell_type": "code",
   "execution_count": 70,
   "metadata": {},
   "outputs": [
    {
     "name": "stdout",
     "output_type": "stream",
     "text": [
      "2015-01-16 nan\n",
      "2015-01-17 nan\n",
      "2015-01-18 nan\n",
      "2015-01-19 nan\n",
      "2015-01-20 nan\n",
      "2015-01-21 nan\n",
      "2015-01-22 nan\n",
      "2015-01-23 nan\n",
      "2015-01-24 nan\n",
      "2015-01-25 nan\n",
      "2015-01-26 nan\n",
      "2015-01-27 nan\n",
      "2015-01-28 nan\n",
      "2015-01-29 nan\n",
      "2015-01-30 nan\n",
      "2015-01-31 nan\n",
      "2015-02-01 987.346832798\n",
      "2015-02-02 997.410441132\n",
      "2015-02-03 1000.47483154\n"
     ]
    }
   ],
   "source": [
    "for i in range(1,20):\n",
    "    print(train.index[2653+7*i].date(), train.pMER0[2653+7*i])"
   ]
  },
  {
   "cell_type": "code",
   "execution_count": 37,
   "metadata": {},
   "outputs": [
    {
     "name": "stdout",
     "output_type": "stream",
     "text": [
      "date\n",
      "2015-01-04    1025.464668\n",
      "2015-01-11    1026.185842\n",
      "2015-01-18    1027.162307\n",
      "2015-01-25            NaN\n",
      "Freq: W-SUN, Name: pMER0, dtype: float64\n"
     ]
    }
   ],
   "source": [
    "gb_cities = train.groupby('insee')\n",
    "print(gb_cities.pMER0.resample('W').median()[6088001]['2015-01'])\n",
    "# print(gb_cities.index.week[2653-7*3])"
   ]
  },
  {
   "cell_type": "markdown",
   "metadata": {},
   "source": [
    "Seems to work when replacing with median with respect to insee"
   ]
  },
  {
   "cell_type": "code",
   "execution_count": 68,
   "metadata": {},
   "outputs": [
    {
     "name": "stdout",
     "output_type": "stream",
     "text": [
      "2015-10-20  - pMER0 val : 1012.55751169 for station 6088001\n",
      "2015-10-21  - pMER0 val : 1013.93150136 for station 6088001\n",
      "2015-10-22  - pMER0 val : 1012.32617746 for station 6088001\n",
      "2015-10-23  - pMER0 val : 1014.89701622 for station 6088001\n",
      "interpolate : nan\n",
      "1020.96093239\n",
      "1021.15937603\n",
      "1018.08701013\n",
      "1016.787766\n"
     ]
    }
   ],
   "source": [
    "for i in sorted(range(1,5), reverse=True):\n",
    "    print(train.index[4627-7*i].date(), \n",
    "          ' - pMER0 val : {} for station {}'.format(train.pMER0[4627-7*i], train.insee[4627-7*i]))\n",
    "print('interpolate : {}'.format(train.pMER0.interpolate(method='krogh')[4627]))\n",
    "for i in range(1,5):\n",
    "    print(train.pMER0[4627+7*i])"
   ]
  },
  {
   "cell_type": "code",
   "execution_count": 114,
   "metadata": {
    "scrolled": true
   },
   "outputs": [
    {
     "data": {
      "text/plain": [
       "date\n",
       "2014-01-01    1019.543734\n",
       "2014-01-02    1016.285475\n",
       "2014-01-03    1016.179675\n",
       "2014-01-04    1018.001728\n",
       "2014-01-05    1001.286135\n",
       "2014-01-06    1014.476222\n",
       "2014-01-07    1021.515290\n",
       "2014-01-08    1025.810319\n",
       "2014-01-09    1025.370616\n",
       "2014-01-10    1018.577957\n",
       "2014-01-11    1020.496801\n",
       "2014-01-12    1021.231866\n",
       "2014-01-13    1020.543744\n",
       "2014-01-14    1007.567191\n",
       "2014-01-15    1007.248734\n",
       "2014-01-16    1014.154993\n",
       "2014-01-17    1006.220309\n",
       "2014-01-18    1008.693275\n",
       "2014-01-19    1001.590979\n",
       "2014-01-20     999.222034\n",
       "2014-01-21    1000.706250\n",
       "2014-01-22    1007.186409\n",
       "2014-01-23    1013.927099\n",
       "2014-01-24    1012.079066\n",
       "2014-01-25    1009.165897\n",
       "2014-01-26    1011.444994\n",
       "2014-01-27    1002.573224\n",
       "2014-01-28     998.046529\n",
       "2014-01-29     999.331859\n",
       "2014-01-30    1004.157276\n",
       "                 ...     \n",
       "2016-05-01    1008.775652\n",
       "2016-05-02    1011.814069\n",
       "2016-05-03    1014.128978\n",
       "2016-05-04    1014.920939\n",
       "2016-05-05    1016.163177\n",
       "2016-05-06    1018.688295\n",
       "2016-05-07    1014.639645\n",
       "2016-05-08    1012.036921\n",
       "2016-05-09    1014.305252\n",
       "2016-05-10    1012.462109\n",
       "2016-05-11    1006.512905\n",
       "2016-05-12    1002.547025\n",
       "2016-05-13     998.354135\n",
       "2016-05-14    1000.644211\n",
       "2016-05-15    1008.628662\n",
       "2016-05-16    1013.353579\n",
       "2016-05-17    1014.894253\n",
       "2016-05-18    1016.198122\n",
       "2016-05-19    1011.343963\n",
       "2016-05-20    1013.099908\n",
       "2016-05-21    1018.719619\n",
       "2016-05-22    1018.104221\n",
       "2016-05-23    1011.775526\n",
       "2016-05-24    1009.546649\n",
       "2016-05-25    1011.618792\n",
       "2016-05-26    1014.727518\n",
       "2016-05-27    1013.829961\n",
       "2016-05-28    1014.262059\n",
       "2016-05-29    1010.835516\n",
       "2016-05-30    1008.397968\n",
       "Name: pMER0, Length: 881, dtype: float64"
      ]
     },
     "execution_count": 114,
     "metadata": {},
     "output_type": "execute_result"
    }
   ],
   "source": [
    "gb_cities.pMER0.apply(lambda group: group.interpolate(method='time'))[6088001]"
   ]
  },
  {
   "cell_type": "code",
   "execution_count": 118,
   "metadata": {},
   "outputs": [
    {
     "data": {
      "text/plain": [
       "0"
      ]
     },
     "execution_count": 118,
     "metadata": {},
     "output_type": "execute_result"
    }
   ],
   "source": [
    "# Interpolate on every variable for a city\n",
    "sum(pd.isnull(train[train['insee'] == 6088001].apply(lambda group: group.interpolate(method='time'))).sum())"
   ]
  },
  {
   "cell_type": "markdown",
   "metadata": {},
   "source": [
    "https://machinelearningmastery.com/time-series-data-visualization-with-python/"
   ]
  },
  {
   "cell_type": "code",
   "execution_count": null,
   "metadata": {
    "collapsed": true
   },
   "outputs": [],
   "source": []
  }
 ],
 "metadata": {
  "kernelspec": {
   "display_name": "Python 2",
   "language": "python",
   "name": "python2"
  },
  "language_info": {
   "codemirror_mode": {
    "name": "ipython",
    "version": 2
   },
   "file_extension": ".py",
   "mimetype": "text/x-python",
   "name": "python",
   "nbconvert_exporter": "python",
   "pygments_lexer": "ipython2",
   "version": "2.7.13"
  },
  "varInspector": {
   "cols": {
    "lenName": 16,
    "lenType": 16,
    "lenVar": 40
   },
   "kernels_config": {
    "python": {
     "delete_cmd_postfix": "",
     "delete_cmd_prefix": "del ",
     "library": "var_list.py",
     "varRefreshCmd": "print(var_dic_list())"
    },
    "r": {
     "delete_cmd_postfix": ") ",
     "delete_cmd_prefix": "rm(",
     "library": "var_list.r",
     "varRefreshCmd": "cat(var_dic_list()) "
    }
   },
   "types_to_exclude": [
    "module",
    "function",
    "builtin_function_or_method",
    "instance",
    "_Feature"
   ],
   "window_display": false
  }
 },
 "nbformat": 4,
 "nbformat_minor": 2
}
